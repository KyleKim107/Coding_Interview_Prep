{
 "metadata": {
  "language_info": {
   "codemirror_mode": {
    "name": "ipython",
    "version": 3
   },
   "file_extension": ".py",
   "mimetype": "text/x-python",
   "name": "python",
   "nbconvert_exporter": "python",
   "pygments_lexer": "ipython3",
   "version": "3.7.6-final"
  },
  "orig_nbformat": 2,
  "kernelspec": {
   "name": "python3",
   "display_name": "Python 3",
   "language": "python"
  }
 },
 "nbformat": 4,
 "nbformat_minor": 2,
 "cells": [
  {
   "cell_type": "code",
   "execution_count": 2,
   "metadata": {},
   "outputs": [
    {
     "output_type": "stream",
     "name": "stdout",
     "text": [
      "0\n1\n2\n3\n4\n"
     ]
    }
   ],
   "source": [
    "import sys\n",
    "\n",
    "a = str(sys.stdin.readline().split(\" \"))\n",
    "other = 0\n",
    "sixnine = 0\n",
    "\n",
    "for i in range(len(a)):\n",
    "    print(i)\n",
    "    if (a[i] == \"6\" )or(a[i] == \"9\" ):\n",
    "        sixnine += 1\n",
    "    else:\n",
    "        other += 1\n",
    "\n",
    "print(other+sixnine)\n",
    "\n",
    "\n",
    "#9 9 9 9 \n"
   ]
  },
  {
   "cell_type": "code",
   "execution_count": null,
   "metadata": {},
   "outputs": [],
   "source": []
  }
 ]
}