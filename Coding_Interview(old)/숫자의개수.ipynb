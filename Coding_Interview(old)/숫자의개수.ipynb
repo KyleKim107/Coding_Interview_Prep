{
 "metadata": {
  "language_info": {
   "codemirror_mode": {
    "name": "ipython",
    "version": 3
   },
   "file_extension": ".py",
   "mimetype": "text/x-python",
   "name": "python",
   "nbconvert_exporter": "python",
   "pygments_lexer": "ipython3",
   "version": "3.7.6-final"
  },
  "orig_nbformat": 2,
  "kernelspec": {
   "name": "python3",
   "display_name": "Python 3",
   "language": "python"
  }
 },
 "nbformat": 4,
 "nbformat_minor": 2,
 "cells": [
  {
   "cell_type": "code",
   "execution_count": 16,
   "metadata": {},
   "outputs": [
    {
     "output_type": "stream",
     "name": "stdout",
     "text": [
      "[1, 7, 0, 3, 7, 3, 0, 0]\n3\n1\n0\n2\n0\n0\n0\n2\n0\n0\n"
     ]
    }
   ],
   "source": [
    "a =int(input())\n",
    "b =int(input()) \n",
    "c =int(input())\n",
    "d = list(map(int,str(a*b*c)))\n",
    "# d = list(map(int, (str(a * b * c) ) ))\n",
    "print(d)\n",
    "for i in range(10):\n",
    "    print(d.count(i))\n",
    "# 150\n",
    "# 266\n",
    "# 427\n"
   ]
  },
  {
   "cell_type": "code",
   "execution_count": 17,
   "metadata": {},
   "outputs": [
    {
     "output_type": "stream",
     "name": "stdout",
     "text": [
      "3\n1\n0\n2\n0\n0\n0\n2\n0\n0\n"
     ]
    }
   ],
   "source": [
    "a =int(input())\n",
    "b =int(input()) \n",
    "c =int(input())\n",
    "d = str(a*b*c)\n",
    "for i in range(10):\n",
    "    print(d.count(str(i)))"
   ]
  },
  {
   "cell_type": "code",
   "execution_count": null,
   "metadata": {},
   "outputs": [],
   "source": []
  }
 ]
}