{
 "metadata": {
  "language_info": {
   "codemirror_mode": {
    "name": "ipython",
    "version": 3
   },
   "file_extension": ".py",
   "mimetype": "text/x-python",
   "name": "python",
   "nbconvert_exporter": "python",
   "pygments_lexer": "ipython3",
   "version": "3.7.6-final"
  },
  "orig_nbformat": 2,
  "kernelspec": {
   "name": "python3",
   "display_name": "Python 3",
   "language": "python"
  }
 },
 "nbformat": 4,
 "nbformat_minor": 2,
 "cells": [
  {
   "cell_type": "code",
   "execution_count": 3,
   "metadata": {},
   "outputs": [
    {
     "output_type": "stream",
     "name": "stdout",
     "text": [
      "0\n1\n2\n3\n"
     ]
    }
   ],
   "source": [
    "for i in range(len(\"9999\")):\n",
    "    print(i)"
   ]
  },
  {
   "cell_type": "code",
   "execution_count": 4,
   "metadata": {},
   "outputs": [
    {
     "output_type": "stream",
     "name": "stdout",
     "text": [
      "0\n"
     ]
    }
   ],
   "source": [
    "import sys\n",
    "\n",
    "a = str(sys.stdin.readline().strip())\n",
    "other = 0\n",
    "sixnine = 0\n",
    "total =0\n",
    "# print(a)\n",
    "for i in range(len(a)):\n",
    "    if (a[i] == \"6\" )or(a[i] == \"9\" ):\n",
    "        sixnine += 1\n",
    "    else:\n",
    "        other += 1\n",
    "# print(sixnine)\n",
    "if (sixnine % 2) == 0:\n",
    "    total += int(sixnine / 2)\n",
    "    # print(\"n\")\n",
    "else:\n",
    "    total += int(sixnine / 2) +1\n",
    "    # print(\"m\")\n",
    "\n",
    "print(other+total)\n",
    "\n",
    "\n",
    "#9 9 9 9 \n"
   ]
  },
  {
   "cell_type": "code",
   "execution_count": null,
   "metadata": {},
   "outputs": [],
   "source": []
  }
 ]
}