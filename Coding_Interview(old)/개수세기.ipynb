{
 "metadata": {
  "language_info": {
   "codemirror_mode": {
    "name": "ipython",
    "version": 3
   },
   "file_extension": ".py",
   "mimetype": "text/x-python",
   "name": "python",
   "nbconvert_exporter": "python",
   "pygments_lexer": "ipython3",
   "version": "3.7.6-final"
  },
  "orig_nbformat": 2,
  "kernelspec": {
   "name": "python3",
   "display_name": "Python 3",
   "language": "python"
  }
 },
 "nbformat": 4,
 "nbformat_minor": 2,
 "cells": [
  {
   "cell_type": "code",
   "execution_count": 25,
   "metadata": {},
   "outputs": [
    {
     "output_type": "stream",
     "name": "stdout",
     "text": [
      "0\n1\n2\n3\n4\n5\n6\n7\n8\n9\n10\n3\n"
     ]
    }
   ],
   "source": [
    "\n",
    "    a= int(input())\n",
    "    b= [int(x) for x in input().split()]\n",
    "    c= int(input())\n",
    "    cnt = 0\n",
    "\n",
    "    for i in range(len(b)):\n",
    "        if b[i] == c:\n",
    "            cnt+= 1\n",
    "    print(cnt)\n",
    "\n",
    "# 11\n",
    "# 1 4 1 2 4 2 4 2 3 4 4\n",
    "# 5\n",
    "# 11\n",
    "# 1 4 1 2 4 2 4 2 3 4 4\n",
    "# 2"
   ]
  },
  {
   "cell_type": "code",
   "execution_count": 21,
   "metadata": {},
   "outputs": [
    {
     "output_type": "stream",
     "name": "stdout",
     "text": [
      "[1, 4, 1, 2, 4, 2, 4, 2, 3, 4, 4]\n",
      "3\n"
     ]
    }
   ],
   "source": [
    "n=int(input())\n",
    "aa=[int(x) for x in input().split()]\n",
    "print(aa)\n",
    "b=int(input())\n",
    "\n",
    "print(aa.count(b))"
   ]
  },
  {
   "cell_type": "code",
   "execution_count": null,
   "metadata": {},
   "outputs": [],
   "source": []
  }
 ]
}